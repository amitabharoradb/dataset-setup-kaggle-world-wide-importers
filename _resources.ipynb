{
 "cells": [
  {
   "cell_type": "code",
   "execution_count": 0,
   "metadata": {
    "application/vnd.databricks.v1+cell": {
     "cellMetadata": {
      "byteLimit": 2048000,
      "rowLimit": 10000
     },
     "inputWidgets": {},
     "nuid": "ce4235d1-b3dd-42d1-b5ea-b4d8d1ae3fc1",
     "showTitle": true,
     "tableResultSettingsMap": {},
     "title": "Define default Databricks scope based on notebook's user name"
    }
   },
   "outputs": [],
   "source": [
    "default_scope = dbutils.notebook.entry_point.getDbutils().notebook().getContext().userName().get()\n",
    "default_scope = default_scope.split('@')[0].replace('.', '_') + '_scope'\n",
    "print(f\"Default Databricks Secret Scope - '{default_scope}'\")"
   ]
  }
 ],
 "metadata": {
  "application/vnd.databricks.v1+notebook": {
   "computePreferences": null,
   "dashboards": [],
   "environmentMetadata": {
    "base_environment": "",
    "environment_version": "2"
   },
   "inputWidgetPreferences": null,
   "language": "python",
   "notebookMetadata": {
    "pythonIndentUnit": 2
   },
   "notebookName": "_resources",
   "widgets": {}
  },
  "language_info": {
   "name": "python"
  }
 },
 "nbformat": 4,
 "nbformat_minor": 0
}
