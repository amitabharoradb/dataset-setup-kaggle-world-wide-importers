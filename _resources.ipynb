{
 "cells": [
  {
   "cell_type": "code",
   "execution_count": 0,
   "metadata": {
    "application/vnd.databricks.v1+cell": {
     "cellMetadata": {
      "byteLimit": 2048000,
      "rowLimit": 10000
     },
     "inputWidgets": {},
     "nuid": "ce4235d1-b3dd-42d1-b5ea-b4d8d1ae3fc1",
     "showTitle": true,
     "tableResultSettingsMap": {},
     "title": "Get notebook user name"
    }
   },
   "outputs": [],
   "source": [
    "notebook_user = dbutils.notebook.entry_point.getDbutils().notebook().getContext().userName().get()\n",
    "notebook_user = notebook_user.split('@')[0].replace('.', '_')\n",
    "print(f\"Notebook User Name: '{notebook_user}'\")"
   ]
  },
  {
   "cell_type": "code",
   "execution_count": 0,
   "metadata": {
    "application/vnd.databricks.v1+cell": {
     "cellMetadata": {
      "byteLimit": 2048000,
      "rowLimit": 10000
     },
     "inputWidgets": {},
     "nuid": "a97a3524-8ed6-4a5d-9672-2ba2c530cee0",
     "showTitle": true,
     "tableResultSettingsMap": {},
     "title": "Define default secret scope"
    }
   },
   "outputs": [],
   "source": [
    "default_scope = notebook_user + '_scope'\n",
    "print(f\"Default Databricks Secret Scope: '{default_scope}'\")"
   ]
  },
  {
   "cell_type": "code",
   "execution_count": 0,
   "metadata": {
    "application/vnd.databricks.v1+cell": {
     "cellMetadata": {
      "byteLimit": 2048000,
      "rowLimit": 10000
     },
     "inputWidgets": {},
     "nuid": "0fc9e8b6-ade2-4406-811d-b1559ca9cd8e",
     "showTitle": true,
     "tableResultSettingsMap": {},
     "title": "Define default catalog and schema names"
    }
   },
   "outputs": [],
   "source": [
    "default_catalog = notebook_user + \"_catalog\"\n",
    "default_schema = \"kaggle_world_wide_importers\"\n",
    "print(f\"Default Schema: {default_catalog}.{default_schema}\")"
   ]
  }
 ],
 "metadata": {
  "application/vnd.databricks.v1+notebook": {
   "computePreferences": null,
   "dashboards": [],
   "environmentMetadata": {
    "base_environment": "",
    "environment_version": "2"
   },
   "inputWidgetPreferences": null,
   "language": "python",
   "notebookMetadata": {
    "pythonIndentUnit": 2
   },
   "notebookName": "_resources",
   "widgets": {}
  },
  "language_info": {
   "name": "python"
  }
 },
 "nbformat": 4,
 "nbformat_minor": 0
}
